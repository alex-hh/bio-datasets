{
 "cells": [
  {
   "cell_type": "code",
   "execution_count": null,
   "metadata": {},
   "outputs": [],
   "source": [
    "import py3Dmol\n",
    "from bio_datasets import load_dataset\n",
    "from bio_datasets import Features, Value, StructureFeature\n",
    "from bio_datasets.structure.utils import to_pdb_string\n",
    "\n",
    "ds = load_dataset('biodatasets/pdb', cache_dir='/Volumes/SSKSSD/.cache/huggingface/datasets', split=\"train\")\n",
    "index = ds[\"id\"].index(\"1a34.bcif\")\n",
    "ex = ds[index]"
   ]
  },
  {
   "cell_type": "markdown",
   "metadata": {},
   "source": [
    "In many cases a biological molecule such as a protein achieves its function not as a single copy, but via association with other copies of itself and with other molecules. Where a molecular assembly consists in multiple copies of a single molecular subunit, it is typical to deposit only the coordinates associated with the `asymmetric' subunit in the PDB, together with instructions on the sequence of symmetry operations that must be performed to reconstruct the full form via assembly of transformed copies of the asymmetric unit.\n",
    "\n",
    "If using StructureFeature / ProteinStructureFeature with mmCIF files set `load_assembly=True` to automatically generate the full biological assembly from the coordinates that are explicitly stored in the mmCIF file.\n",
    "\n",
    "For more background on biological assemblies, see [the PDB docs](https://pdb101.rcsb.org/learn/guide-to-understanding-pdb-data/biological-assemblies)"
   ]
  },
  {
   "cell_type": "code",
   "execution_count": null,
   "metadata": {},
   "outputs": [],
   "source": [
    "view = py3Dmol.view(width=400, height=400)\n",
    "view.addModel(to_pdb_string(ex[\"structure\"]), 'pdb')\n",
    "view.setStyle({'cartoon': {'color': 'spectrum'}})\n",
    "view.zoomTo()\n",
    "view.show()\n"
   ]
  },
  {
   "cell_type": "code",
   "execution_count": null,
   "metadata": {},
   "outputs": [],
   "source": [
    "# todo: add a clone method?\n",
    "feat = Features(id=Value(\"string\"), structure=StructureFeature(load_assembly=True))\n",
    "# because encoding doesn't change, casting is unnecessary, and we can just set the features explicitly\n",
    "# todo: copy ds?\n",
    "ds.info.features = feat"
   ]
  },
  {
   "cell_type": "code",
   "execution_count": null,
   "metadata": {},
   "outputs": [],
   "source": [
    "assembly_ex = ds[index]"
   ]
  },
  {
   "cell_type": "code",
   "execution_count": null,
   "metadata": {},
   "outputs": [],
   "source": [
    "import numpy as np\n",
    "view = py3Dmol.view(width=400, height=400)\n",
    "view.addModel(to_pdb_string(assembly_ex[\"structure\"]), 'pdb')\n",
    "view.setStyle({'cartoon': {'color': 'spectrum'}})\n",
    "view.zoomTo()\n",
    "view.show()"
   ]
  }
 ],
 "metadata": {
  "kernelspec": {
   "display_name": "devo",
   "language": "python",
   "name": "python3"
  },
  "language_info": {
   "codemirror_mode": {
    "name": "ipython",
    "version": 3
   },
   "file_extension": ".py",
   "mimetype": "text/x-python",
   "name": "python",
   "nbconvert_exporter": "python",
   "pygments_lexer": "ipython3",
   "version": "3.11.6"
  }
 },
 "nbformat": 4,
 "nbformat_minor": 2
}
