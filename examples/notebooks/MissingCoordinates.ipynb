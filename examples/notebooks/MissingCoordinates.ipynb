{
 "cells": [
  {
   "cell_type": "code",
   "execution_count": null,
   "metadata": {},
   "outputs": [],
   "source": [
    "%load_ext autoreload\n",
    "%autoreload 2\n",
    "import py3Dmol\n",
    "import numpy as np\n",
    "from bio_datasets import load_dataset\n",
    "from bio_datasets import Features, Value, StructureFeature, ProteinStructureFeature\n",
    "from bio_datasets.structure.utils import to_pdb_string"
   ]
  },
  {
   "cell_type": "markdown",
   "metadata": {},
   "source": [
    "\n",
    "Structures in the PDB often contain coordinates only for a subset of the residues or atoms of the molecule(s) under investigation. It is in many cases useful to have an explicit representation of these missing coordinates, but this has to be inferred by comparison of the present coordinates with the expected molelcular composition stored in the metadata.\n",
    "\n",
    "Bio datasets offers built-in support for loading structures from cif files with missing coordinates explicitly represented. Support for missing residues can be enabled by using StructureFeature/ProteinStructureFeature with `fill_missing_residues=True`\n",
    "\n",
    "For more background on missing coordinates in PDB files, see [the PDB docs](https://pdb101.rcsb.org/learn/guide-to-understanding-pdb-data/missing-coordinates#:~:text=Regions%20in%20a%20protein%20that,and%20end%20of%20the%20chain.)"
   ]
  },
  {
   "cell_type": "code",
   "execution_count": null,
   "metadata": {},
   "outputs": [],
   "source": [
    "ds = load_dataset('biodatasets/pdb', cache_dir='/Volumes/SSKSSD/.cache/huggingface/datasets', split=\"train\")\n",
    "index = ds[\"id\"].index(\"1az5.bcif\")\n",
    "ex = ds[index]"
   ]
  },
  {
   "cell_type": "code",
   "execution_count": null,
   "metadata": {},
   "outputs": [],
   "source": [
    "view = py3Dmol.view(width=400, height=400)\n",
    "view.addModel(to_pdb_string(ex[\"structure\"]), 'pdb')\n",
    "view.setStyle({'cartoon': {'color': 'spectrum'}})\n",
    "view.zoomTo()\n",
    "view.show()"
   ]
  },
  {
   "cell_type": "code",
   "execution_count": null,
   "metadata": {},
   "outputs": [],
   "source": [
    "feat = Features(id=Value(\"string\"), structure=ProteinStructureFeature(load_assembly=True, fill_missing_residues=True))\n",
    "# because encoding doesn't change, casting is unnecessary, and we can just set the features explicitly\n",
    "# todo: copy ds?\n",
    "ds.info.features = feat"
   ]
  },
  {
   "cell_type": "code",
   "execution_count": null,
   "metadata": {},
   "outputs": [],
   "source": [
    "ex = ds[index]"
   ]
  },
  {
   "cell_type": "code",
   "execution_count": null,
   "metadata": {},
   "outputs": [],
   "source": [
    "np.unique(ex[\"structure\"].atoms.res_id)"
   ]
  },
  {
   "cell_type": "code",
   "execution_count": null,
   "metadata": {},
   "outputs": [],
   "source": [
    "view = py3Dmol.view(width=400, height=400)\n",
    "view.addModel(to_pdb_string(ex[\"structure\"].atoms[~np.isnan(ex[\"structure\"].atoms.coord).any(axis=1)]), 'pdb')\n",
    "view.setStyle({'cartoon': {'color': 'spectrum'}})\n",
    "view.zoomTo()\n",
    "view.show()"
   ]
  },
  {
   "cell_type": "code",
   "execution_count": null,
   "metadata": {},
   "outputs": [],
   "source": [
    "ex[\"structure\"].backbone_coords([\"CA\"]).squeeze()"
   ]
  }
 ],
 "metadata": {
  "kernelspec": {
   "display_name": "devo",
   "language": "python",
   "name": "python3"
  },
  "language_info": {
   "codemirror_mode": {
    "name": "ipython",
    "version": 3
   },
   "file_extension": ".py",
   "mimetype": "text/x-python",
   "name": "python",
   "nbconvert_exporter": "python",
   "pygments_lexer": "ipython3",
   "version": "3.11.6"
  }
 },
 "nbformat": 4,
 "nbformat_minor": 2
}
